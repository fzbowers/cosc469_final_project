{
 "cells": [
  {
   "cell_type": "code",
   "execution_count": 1,
   "id": "49065b71-5742-41ee-bde7-eda6e488af39",
   "metadata": {},
   "outputs": [
    {
     "name": "stderr",
     "output_type": "stream",
     "text": [
      "[nltk_data] Downloading package stopwords to\n",
      "[nltk_data]     C:\\Users\\bower\\AppData\\Roaming\\nltk_data...\n",
      "[nltk_data]   Package stopwords is already up-to-date!\n"
     ]
    }
   ],
   "source": [
    "import numpy as np\n",
    "import pandas as pd\n",
    "\n",
    "import re, nltk\n",
    "nltk.download('stopwords')\n",
    "from nltk.corpus import stopwords\n",
    "\n",
    "from tabulate import tabulate\n",
    "\n",
    "from sklearn.feature_extraction.text import TfidfVectorizer\n",
    "from sklearn.decomposition import NMF"
   ]
  },
  {
   "cell_type": "markdown",
   "id": "0d91a3d5-c435-440f-b798-0e1f6e6f9640",
   "metadata": {},
   "source": [
    "## Collecting and cleaning data"
   ]
  },
  {
   "cell_type": "code",
   "execution_count": 2,
   "id": "2cafaa9d-f65f-4fd0-b26c-56c408cf17c7",
   "metadata": {},
   "outputs": [],
   "source": [
    "sms_data, email_data = [], []\n",
    "sms_count, email_count = 0, 0\n",
    "\n",
    "# SMS DATA\n",
    "\n",
    "# from: https://www.kaggle.com/datasets/galactus007/sms-smishing-collection-data-set/\n",
    "df = pd.read_csv(\"datasets/sms_messaging.csv\")\n",
    "df = df.loc[df[\"label\"] == 1]\n",
    "\n",
    "sms_count += len(df)\n",
    "sms_data = np.concatenate((sms_data, np.array(df[\"sms\"])), axis=0)\n",
    "\n",
    "# from: https://data.mendeley.com/datasets/f45bkkt8pr/1\n",
    "df = pd.read_csv(\"datasets/sms_phishing.csv\")\n",
    "df = df.loc[df[\"LABEL\"] == \"Smishing\"]\n",
    "\n",
    "sms_count += len(df)\n",
    "sms_data = np.concatenate((sms_data, np.array(df[\"TEXT\"])), axis=0)\n",
    "\n",
    "# EMAIL DATA\n",
    "\n",
    "# from: https://www.kaggle.com/datasets/subhajournal/phishingemails\n",
    "df = pd.read_csv(\"datasets/Phishing_Email.csv\")\n",
    "df = df.loc[df[\"Email Type\"] == \"Phishing Email\"]\n",
    "\n",
    "email_count += len(df)\n",
    "email_data = np.concatenate((email_data, (np.array(df[\"Email Text\"]))), axis=0)"
   ]
  },
  {
   "cell_type": "code",
   "execution_count": 3,
   "id": "dbbe0eb6-46c2-4ae8-8955-1724e6cfdfdf",
   "metadata": {},
   "outputs": [],
   "source": [
    "def clean_text(text):\n",
    "    text = str(text)\n",
    "    # Remove punctuation using regex\n",
    "    text = re.sub(r'[^\\w\\s]', '', text)\n",
    "    # Convert text to lowercase\n",
    "    text = text.lower()\n",
    "    \n",
    "    # Remove stopwords\n",
    "    stop_words = set(stopwords.words('english'))\n",
    "    words = text.split()\n",
    "    words = [word for word in words if word not in stop_words]\n",
    "    text = ' '.join(words)\n",
    "    \n",
    "    return text\n",
    "\n",
    "clean_sms = [clean_text(text) for text in sms_data]\n",
    "clean_email = [clean_text(text) for text in email_data]"
   ]
  },
  {
   "cell_type": "markdown",
   "id": "d4860a69-39dc-40ee-9f45-6dfe95912c13",
   "metadata": {},
   "source": [
    "## Non-negative matrix factorization"
   ]
  },
  {
   "cell_type": "code",
   "execution_count": 4,
   "id": "d31904ed-2297-4114-b884-2c33a777cbdc",
   "metadata": {},
   "outputs": [
    {
     "name": "stdout",
     "output_type": "stream",
     "text": [
      "╒════════════╤═════════════╤═════════════╤═══════════╤════════════╕\n",
      "│ Topic 0    │ Topic 1     │ Topic 2     │ Topic 3   │ Topic 4    │\n",
      "╞════════════╪═════════════╪═════════════╪═══════════╪════════════╡\n",
      "│ prize      │ free        │ secret      │ receive   │ identifier │\n",
      "├────────────┼─────────────┼─────────────┼───────────┼────────────┤\n",
      "│ guaranteed │ reply       │ admirer     │ award     │ unredeemed │\n",
      "├────────────┼─────────────┼─────────────┼───────────┼────────────┤\n",
      "│ urgent     │ video       │ thinks      │ selected  │ points     │\n",
      "├────────────┼─────────────┼─────────────┼───────────┼────────────┤\n",
      "│ claim      │ 08000930705 │ ufind       │ claim     │ expires    │\n",
      "├────────────┼─────────────┼─────────────┼───────────┼────────────┤\n",
      "│ valid      │ new         │ rreveal     │ 350       │ statement  │\n",
      "├────────────┼─────────────┼─────────────┼───────────┼────────────┤\n",
      "│ 12hrs      │ mins        │ specialcall │ ending    │ account    │\n",
      "├────────────┼─────────────┼─────────────┼───────────┼────────────┤\n",
      "│ land       │ text        │ looking     │ numbers   │ private    │\n",
      "├────────────┼─────────────┼─────────────┼───────────┼────────────┤\n",
      "│ 2000       │ 750         │ make        │ todays    │ shows      │\n",
      "├────────────┼─────────────┼─────────────┼───────────┼────────────┤\n",
      "│ line       │ camcorder   │ ur          │ quoting   │ 2003       │\n",
      "├────────────┼─────────────┼─────────────┼───────────┼────────────┤\n",
      "│ awarded    │ want        │ contact     │ match     │ code       │\n",
      "╘════════════╧═════════════╧═════════════╧═══════════╧════════════╛\n",
      "╒═══════════╤══════════════╤═════════════╤═════════════╤════════════╕\n",
      "│ Topic 0   │ Topic 1      │ Topic 2     │ Topic 3     │ Topic 4    │\n",
      "╞═══════════╪══════════════╪═════════════╪═════════════╪════════════╡\n",
      "│ email     │ adobe        │ statements  │ logo        │ website    │\n",
      "├───────────┼──────────────┼─────────────┼─────────────┼────────────┤\n",
      "│ free      │ software     │ company     │ business    │ search     │\n",
      "├───────────┼──────────────┼─────────────┼─────────────┼────────────┤\n",
      "│ click     │ 95           │ securities  │ stationery  │ submit     │\n",
      "├───────────┼──────────────┼─────────────┼─────────────┼────────────┤\n",
      "│ money     │ 2004         │ report      │ competitors │ engines    │\n",
      "├───────────┼──────────────┼─────────────┼─────────────┼────────────┤\n",
      "│ list      │ xp           │ stock       │ revamping   │ online     │\n",
      "├───────────┼──────────────┼─────────────┼─────────────┼────────────┤\n",
      "│ com       │ professional │ investment  │ breathing   │ visitors   │\n",
      "├───────────┼──────────────┼─────────────┼─────────────┼────────────┤\n",
      "│ address   │ windows      │ forward     │ offers      │ site       │\n",
      "├───────────┼──────────────┼─────────────┼─────────────┼────────────┤\n",
      "│ 000       │ pro          │ information │ artwork     │ peopie     │\n",
      "├───────────┼──────────────┼─────────────┼─────────────┼────────────┤\n",
      "│ mail      │ macromedia   │ news        │ breath      │ vain       │\n",
      "├───────────┼──────────────┼─────────────┼─────────────┼────────────┤\n",
      "│ order     │ mx           │ act         │ creative    │ submitting │\n",
      "╘═══════════╧══════════════╧═════════════╧═════════════╧════════════╛\n"
     ]
    }
   ],
   "source": [
    "def nmf_analysis(data):\n",
    "\n",
    "    # preprocess data\n",
    "    vectorizer = TfidfVectorizer(stop_words='english')\n",
    "    tfidf_matrix = vectorizer.fit_transform(data)\n",
    "\n",
    "    # nmf\n",
    "    nmf = NMF(n_components=5, random_state=42)\n",
    "    nmf.fit(tfidf_matrix)\n",
    "    \n",
    "    # get top words for each topic\n",
    "    feature_names = vectorizer.get_feature_names_out()\n",
    "\n",
    "    topic_keywords = []\n",
    "    for index, topic in enumerate(nmf.components_):\n",
    "        # get top 10 words\n",
    "        words = topic.argsort()[:-10 - 1:-1]  \n",
    "        top_words = [feature_names[i] for i in words]\n",
    "        topic_keywords.append(top_words)\n",
    "    \n",
    "    # print table\n",
    "    table_data = np.transpose(topic_keywords)\n",
    "    \n",
    "    table_headers = ['Topic ' + str(i) for i in range(len(topic_keywords))]\n",
    "    table = tabulate(table_data, headers=table_headers, tablefmt=\"fancy_grid\")\n",
    "    \n",
    "    print(table)\n",
    "\n",
    "nmf_analysis(clean_sms)\n",
    "nmf_analysis(clean_email)    "
   ]
  },
  {
   "cell_type": "code",
   "execution_count": null,
   "id": "3375e874-800b-4daf-9987-d4683bf73f37",
   "metadata": {},
   "outputs": [],
   "source": []
  }
 ],
 "metadata": {
  "kernelspec": {
   "display_name": "Python 3 (ipykernel)",
   "language": "python",
   "name": "python3"
  },
  "language_info": {
   "codemirror_mode": {
    "name": "ipython",
    "version": 3
   },
   "file_extension": ".py",
   "mimetype": "text/x-python",
   "name": "python",
   "nbconvert_exporter": "python",
   "pygments_lexer": "ipython3",
   "version": "3.9.18"
  },
  "widgets": {
   "application/vnd.jupyter.widget-state+json": {
    "state": {},
    "version_major": 2,
    "version_minor": 0
   }
  }
 },
 "nbformat": 4,
 "nbformat_minor": 5
}
